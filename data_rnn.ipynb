{
 "cells": [
  {
   "cell_type": "code",
   "execution_count": 1,
   "id": "7ad7fc13-2d3e-40f6-aaee-840aba4236d0",
   "metadata": {},
   "outputs": [
    {
     "data": {
      "text/html": [
       "<div>\n",
       "<style scoped>\n",
       "    .dataframe tbody tr th:only-of-type {\n",
       "        vertical-align: middle;\n",
       "    }\n",
       "\n",
       "    .dataframe tbody tr th {\n",
       "        vertical-align: top;\n",
       "    }\n",
       "\n",
       "    .dataframe thead th {\n",
       "        text-align: right;\n",
       "    }\n",
       "</style>\n",
       "<table border=\"1\" class=\"dataframe\">\n",
       "  <thead>\n",
       "    <tr style=\"text-align: right;\">\n",
       "      <th></th>\n",
       "      <th>label</th>\n",
       "      <th>text</th>\n",
       "    </tr>\n",
       "  </thead>\n",
       "  <tbody>\n",
       "    <tr>\n",
       "      <th>0</th>\n",
       "      <td>ham</td>\n",
       "      <td>Go until jurong point, crazy.. Available only in bugis n great world la e buffet... Cine there g...</td>\n",
       "    </tr>\n",
       "    <tr>\n",
       "      <th>1</th>\n",
       "      <td>ham</td>\n",
       "      <td>Ok lar... Joking wif u oni...</td>\n",
       "    </tr>\n",
       "    <tr>\n",
       "      <th>2</th>\n",
       "      <td>spam</td>\n",
       "      <td>Free entry in 2 a wkly comp to win FA Cup final tkts 21st May 2005. Text FA to 87121 to receive ...</td>\n",
       "    </tr>\n",
       "    <tr>\n",
       "      <th>3</th>\n",
       "      <td>ham</td>\n",
       "      <td>U dun say so early hor... U c already then say...</td>\n",
       "    </tr>\n",
       "    <tr>\n",
       "      <th>4</th>\n",
       "      <td>ham</td>\n",
       "      <td>Nah I don't think he goes to usf, he lives around here though</td>\n",
       "    </tr>\n",
       "  </tbody>\n",
       "</table>\n",
       "</div>"
      ],
      "text/plain": [
       "  label  \\\n",
       "0   ham   \n",
       "1   ham   \n",
       "2  spam   \n",
       "3   ham   \n",
       "4   ham   \n",
       "\n",
       "                                                                                                  text  \n",
       "0  Go until jurong point, crazy.. Available only in bugis n great world la e buffet... Cine there g...  \n",
       "1                                                                        Ok lar... Joking wif u oni...  \n",
       "2  Free entry in 2 a wkly comp to win FA Cup final tkts 21st May 2005. Text FA to 87121 to receive ...  \n",
       "3                                                    U dun say so early hor... U c already then say...  \n",
       "4                                        Nah I don't think he goes to usf, he lives around here though  "
      ]
     },
     "execution_count": 1,
     "metadata": {},
     "output_type": "execute_result"
    }
   ],
   "source": [
    "import gensim\n",
    "import pandas as pd\n",
    "import numpy as np\n",
    "from sklearn.model_selection import train_test_split\n",
    "\n",
    "pd.set_option('display.max_colwidth', 100)\n",
    "\n",
    "messages = pd.read_csv(\"data/spam.csv\", encoding='latin-1')\n",
    "messages = messages.drop(labels = [\"Unnamed: 2\", \"Unnamed: 3\", \"Unnamed: 4\"], axis=1)\n",
    "messages.columns = ['label', 'text']\n",
    "labels = np.where(messages['label']=='spam',1,0)\n",
    "messages.head()"
   ]
  },
  {
   "cell_type": "code",
   "execution_count": 2,
   "id": "52741cc4-3efe-4f74-be34-fd02c58f4a31",
   "metadata": {},
   "outputs": [],
   "source": [
    "X_train, X_test, y_train, y_test = train_test_split(messages['text'],labels, test_size=0.2, random_state=42)"
   ]
  },
  {
   "cell_type": "code",
   "execution_count": 3,
   "id": "9d29a883-f200-49bd-b231-ffbbd628b621",
   "metadata": {},
   "outputs": [
    {
     "name": "stdout",
     "output_type": "stream",
     "text": [
      "(4457,)\n",
      "(1115,)\n"
     ]
    }
   ],
   "source": [
    "print(X_train.shape)\n",
    "print(X_test.shape)\n"
   ]
  },
  {
   "cell_type": "code",
   "execution_count": 4,
   "id": "643a1cdc-b21e-4f52-989b-4b30ba66a9f2",
   "metadata": {},
   "outputs": [],
   "source": [
    "from keras.preprocessing.text import Tokenizer\n",
    "from keras.preprocessing.sequence import pad_sequences"
   ]
  },
  {
   "cell_type": "code",
   "execution_count": 5,
   "id": "79f82718-3564-4e2f-8359-e2614bf1f86e",
   "metadata": {},
   "outputs": [],
   "source": [
    "tokenizer = Tokenizer()\n",
    "tokenizer.fit_on_texts(X_train)"
   ]
  },
  {
   "cell_type": "code",
   "execution_count": 6,
   "id": "d73f1921-d87c-445f-a827-226e4a777c40",
   "metadata": {},
   "outputs": [],
   "source": [
    "X_train_seq = tokenizer.texts_to_sequences(X_train)\n",
    "X_test_seq = tokenizer.texts_to_sequences(X_test)"
   ]
  },
  {
   "cell_type": "code",
   "execution_count": 7,
   "id": "7046d9b4-2421-4587-8482-9bfee7eb8793",
   "metadata": {},
   "outputs": [
    {
     "data": {
      "text/plain": [
       "[38,\n",
       " 30,\n",
       " 8,\n",
       " 5,\n",
       " 273,\n",
       " 1989,\n",
       " 81,\n",
       " 116,\n",
       " 26,\n",
       " 11,\n",
       " 1656,\n",
       " 322,\n",
       " 10,\n",
       " 53,\n",
       " 18,\n",
       " 299,\n",
       " 30,\n",
       " 349,\n",
       " 1990]"
      ]
     },
     "execution_count": 7,
     "metadata": {},
     "output_type": "execute_result"
    }
   ],
   "source": [
    "# convert the word into a sequence of vector - each interger is a word\n",
    "X_train_seq[0]"
   ]
  },
  {
   "cell_type": "code",
   "execution_count": 8,
   "id": "2df9bf7b-f64c-4e10-ad31-7e9449df50d1",
   "metadata": {},
   "outputs": [],
   "source": [
    "# pad the sequences so each sequence is the same length\n",
    "X_train_seq_padded = pad_sequences(X_train_seq, 50)\n",
    "X_test_seq_padded = pad_sequences(X_test_seq, 50)"
   ]
  },
  {
   "cell_type": "code",
   "execution_count": 9,
   "id": "ac62c3df-4809-4f1a-bf97-02a7c29469c6",
   "metadata": {},
   "outputs": [
    {
     "data": {
      "text/plain": [
       "array([[   0,    0,    0, ...,   30,  349, 1990],\n",
       "       [   0,    0,    0, ...,  203, 1025,  225],\n",
       "       [   0,    0,    0, ...,    2, 3794, 3795],\n",
       "       ...,\n",
       "       [   0,    0,    0, ...,  239,   30, 2064],\n",
       "       [   0,    0,    0, ..., 1161,    1,  255],\n",
       "       [   0,    0,    0, ...,    8,  290,  175]])"
      ]
     },
     "execution_count": 9,
     "metadata": {},
     "output_type": "execute_result"
    }
   ],
   "source": [
    "X_train_seq_padded"
   ]
  },
  {
   "cell_type": "code",
   "execution_count": 10,
   "id": "f2e98a18-dbcd-488c-b6db-07ad17be2dda",
   "metadata": {},
   "outputs": [],
   "source": [
    "# Import the tools needed from keras and define functions to calculate recall and precision\n",
    "import keras.backend as K\n",
    "from keras.layers import Dense, Embedding, LSTM\n",
    "from keras.models import Sequential\n",
    "\n",
    "def recall_m(y_true, y_pred):\n",
    "        true_positives = K.sum(K.round(K.clip(y_true * y_pred, 0, 1)))\n",
    "        possible_positives = K.sum(K.round(K.clip(y_true, 0, 1)))\n",
    "        recall = true_positives / (possible_positives + K.epsilon())\n",
    "        return recall\n",
    "\n",
    "def precision_m(y_true, y_pred):\n",
    "        true_positives = K.sum(K.round(K.clip(y_true * y_pred, 0, 1)))\n",
    "        predicted_positives = K.sum(K.round(K.clip(y_pred, 0, 1)))\n",
    "        precision = true_positives / (predicted_positives + K.epsilon())\n",
    "        return precision"
   ]
  },
  {
   "cell_type": "code",
   "execution_count": 11,
   "id": "dcd3f2bc-125e-46bd-873e-5fa3e5b18eab",
   "metadata": {},
   "outputs": [
    {
     "name": "stdout",
     "output_type": "stream",
     "text": [
      "Model: \"sequential\"\n",
      "_________________________________________________________________\n",
      " Layer (type)                Output Shape              Param #   \n",
      "=================================================================\n",
      " embedding (Embedding)       (None, None, 32)          254560    \n",
      "                                                                 \n",
      " lstm (LSTM)                 (None, 32)                8320      \n",
      "                                                                 \n",
      " dense (Dense)               (None, 32)                1056      \n",
      "                                                                 \n",
      " dense_1 (Dense)             (None, 1)                 33        \n",
      "                                                                 \n",
      "=================================================================\n",
      "Total params: 263969 (1.01 MB)\n",
      "Trainable params: 263969 (1.01 MB)\n",
      "Non-trainable params: 0 (0.00 Byte)\n",
      "_________________________________________________________________\n"
     ]
    }
   ],
   "source": [
    "# Construct a simple RNN model\n",
    "model = Sequential()\n",
    "\n",
    "model.add(Embedding(len(tokenizer.index_word)+1, 32))\n",
    "model.add(LSTM(32, dropout=0, recurrent_dropout=0))\n",
    "model.add(Dense(32, activation='relu'))\n",
    "model.add(Dense(1, activation='sigmoid'))\n",
    "model.summary()"
   ]
  },
  {
   "cell_type": "code",
   "execution_count": 12,
   "id": "b2871cc5-bae1-4d58-a39f-a7dbaa478d40",
   "metadata": {},
   "outputs": [],
   "source": [
    "# Compile the model\n",
    "model.compile(optimizer='adam',\n",
    "              loss='binary_crossentropy',\n",
    "              metrics=['accuracy', precision_m, recall_m])"
   ]
  },
  {
   "cell_type": "code",
   "execution_count": 13,
   "id": "41a4c90e-e4c2-45fa-85cf-f48660c19e3f",
   "metadata": {},
   "outputs": [
    {
     "name": "stdout",
     "output_type": "stream",
     "text": [
      "Epoch 1/10\n",
      "140/140 [==============================] - 11s 39ms/step - loss: 0.2563 - accuracy: 0.9154 - precision_m: 0.4964 - recall_m: 0.4026 - val_loss: 0.0772 - val_accuracy: 0.9767 - val_precision_m: 0.9386 - val_recall_m: 0.8942\n",
      "Epoch 2/10\n",
      "140/140 [==============================] - 4s 25ms/step - loss: 0.0300 - accuracy: 0.9912 - precision_m: 0.9729 - recall_m: 0.9501 - val_loss: 0.0562 - val_accuracy: 0.9821 - val_precision_m: 0.9952 - val_recall_m: 0.8752\n",
      "Epoch 3/10\n",
      "140/140 [==============================] - 4s 26ms/step - loss: 0.0068 - accuracy: 0.9984 - precision_m: 0.9771 - recall_m: 0.9707 - val_loss: 0.0824 - val_accuracy: 0.9821 - val_precision_m: 0.9952 - val_recall_m: 0.8692\n",
      "Epoch 4/10\n",
      "140/140 [==============================] - 4s 29ms/step - loss: 0.0019 - accuracy: 0.9998 - precision_m: 0.9929 - recall_m: 0.9918 - val_loss: 0.0557 - val_accuracy: 0.9857 - val_precision_m: 0.9952 - val_recall_m: 0.8987\n",
      "Epoch 5/10\n",
      "140/140 [==============================] - 5s 33ms/step - loss: 6.9794e-04 - accuracy: 1.0000 - precision_m: 0.9929 - recall_m: 0.9929 - val_loss: 0.0957 - val_accuracy: 0.9821 - val_precision_m: 1.0000 - val_recall_m: 0.8656\n",
      "Epoch 6/10\n",
      "140/140 [==============================] - 4s 25ms/step - loss: 2.7003e-04 - accuracy: 1.0000 - precision_m: 0.9857 - recall_m: 0.9857 - val_loss: 0.0984 - val_accuracy: 0.9830 - val_precision_m: 1.0000 - val_recall_m: 0.8692\n",
      "Epoch 7/10\n",
      "140/140 [==============================] - 5s 37ms/step - loss: 1.0140e-04 - accuracy: 1.0000 - precision_m: 0.9786 - recall_m: 0.9786 - val_loss: 0.0981 - val_accuracy: 0.9830 - val_precision_m: 1.0000 - val_recall_m: 0.8692\n",
      "Epoch 8/10\n",
      "140/140 [==============================] - 5s 33ms/step - loss: 6.9625e-05 - accuracy: 1.0000 - precision_m: 0.9786 - recall_m: 0.9786 - val_loss: 0.1080 - val_accuracy: 0.9830 - val_precision_m: 1.0000 - val_recall_m: 0.8692\n",
      "Epoch 9/10\n",
      "140/140 [==============================] - 4s 32ms/step - loss: 5.1798e-05 - accuracy: 1.0000 - precision_m: 0.9929 - recall_m: 0.9929 - val_loss: 0.1103 - val_accuracy: 0.9830 - val_precision_m: 1.0000 - val_recall_m: 0.8692\n",
      "Epoch 10/10\n",
      "140/140 [==============================] - 4s 27ms/step - loss: 4.0520e-05 - accuracy: 1.0000 - precision_m: 0.9571 - recall_m: 0.9571 - val_loss: 0.1139 - val_accuracy: 0.9830 - val_precision_m: 1.0000 - val_recall_m: 0.8692\n"
     ]
    }
   ],
   "source": [
    "# Fit the RNN model\n",
    "history = model.fit(X_train_seq_padded, y_train, \n",
    "                    batch_size=32, epochs=10,\n",
    "                    validation_data=(X_test_seq_padded, y_test))"
   ]
  },
  {
   "cell_type": "code",
   "execution_count": 14,
   "id": "1b836697-5727-452d-93a0-c1dbb8f4aa92",
   "metadata": {},
   "outputs": [
    {
     "data": {
      "image/png": "[encoded data removed]",
      "text/plain": [
       "<Figure size 432x288 with 1 Axes>"
      ]
     },
     "metadata": {
      "needs_background": "light"
     },
     "output_type": "display_data"
    },
    {
     "data": {
      "image/png": "[encoded data removed]",
      "text/plain": [
       "<Figure size 432x288 with 1 Axes>"
      ]
     },
     "metadata": {
      "needs_background": "light"
     },
     "output_type": "display_data"
    },
    {
     "data": {
      "image/png": "[encoded data removed]",
      "text/plain": [
       "<Figure size 432x288 with 1 Axes>"
      ]
     },
     "metadata": {
      "needs_background": "light"
     },
     "output_type": "display_data"
    }
   ],
   "source": [
    "# Plot the evaluation metrics by each epoch for the model to see if we are over or underfitting\n",
    "import matplotlib.pyplot as plt\n",
    "\n",
    "for i in ['accuracy', 'precision_m', 'recall_m']:\n",
    "    acc = history.history[i]\n",
    "    val_acc = history.history['val_{}'.format(i)]\n",
    "    epochs = range(1, len(acc) + 1)\n",
    "\n",
    "    plt.figure()\n",
    "    plt.plot(epochs, acc, label='Training Accuracy')\n",
    "    plt.plot(epochs, val_acc, label='Validation Accuracy')\n",
    "    plt.title('Results for {}'.format(i))\n",
    "    plt.legend()\n",
    "    plt.show()"
   ]
  }
 ],
 "metadata": {
  "kernelspec": {
   "display_name": "Python 3",
   "language": "python",
   "name": "python3"
  },
  "language_info": {
   "codemirror_mode": {
    "name": "ipython",
    "version": 3
   },
   "file_extension": ".py",
   "mimetype": "text/x-python",
   "name": "python",
   "nbconvert_exporter": "python",
   "pygments_lexer": "ipython3",
   "version": "3.8.8"
  }
 },
 "nbformat": 4,
 "nbformat_minor": 5
}
